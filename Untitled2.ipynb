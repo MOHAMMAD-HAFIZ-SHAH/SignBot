{
 "cells": [
  {
   "cell_type": "code",
   "execution_count": 2,
   "id": "c467948a-0d55-4268-8aa1-e5d4ac780472",
   "metadata": {
    "tags": []
   },
   "outputs": [
    {
     "name": "stderr",
     "output_type": "stream",
     "text": [
      "Werkzeug appears to be used in a production deployment. Consider switching to a production web server instead.\n"
     ]
    },
    {
     "name": "stdout",
     "output_type": "stream",
     "text": [
      " * Serving Flask app '__main__'\n",
      " * Debug mode: on\n"
     ]
    },
    {
     "name": "stderr",
     "output_type": "stream",
     "text": [
      "WARNING: This is a development server. Do not use it in a production deployment. Use a production WSGI server instead.\n",
      " * Running on http://127.0.0.1:5000\n",
      "Press CTRL+C to quit\n",
      " * Restarting with watchdog (windowsapi)\n"
     ]
    },
    {
     "ename": "SystemExit",
     "evalue": "1",
     "output_type": "error",
     "traceback": [
      "An exception has occurred, use %tb to see the full traceback.\n",
      "\u001b[1;31mSystemExit\u001b[0m\u001b[1;31m:\u001b[0m 1\n"
     ]
    },
    {
     "name": "stderr",
     "output_type": "stream",
     "text": [
      "C:\\Users\\Chait\\anaconda3\\Lib\\site-packages\\IPython\\core\\interactiveshell.py:3534: UserWarning: To exit: use 'exit', 'quit', or Ctrl-D.\n",
      "  warn(\"To exit: use 'exit', 'quit', or Ctrl-D.\", stacklevel=1)\n"
     ]
    }
   ],
   "source": [
    "from flask import Flask, render_template, request\n",
    "from flask_socketio import SocketIO, emit\n",
    "import cv2\n",
    "import mediapipe as mp\n",
    "import numpy as np\n",
    "import pickle\n",
    "from collections import deque\n",
    "from autocorrect import Speller\n",
    "import base64\n",
    "\n",
    "app = Flask(__name__)\n",
    "socketio = SocketIO(app)\n",
    "\n",
    "# Load the trained model\n",
    "model_path = 'model.p'  # Replace with the correct model path\n",
    "with open(model_path, 'rb') as f:\n",
    "    model_dict = pickle.load(f)\n",
    "model = model_dict['model']\n",
    "\n",
    "# Initialize MediaPipe Hands for hand detection\n",
    "mp_hands = mp.solutions.hands\n",
    "hands = mp_hands.Hands(static_image_mode=False, min_detection_confidence=0.3)\n",
    "\n",
    "# Speller for autocorrecting words\n",
    "spell = Speller(lang='en')\n",
    "\n",
    "# Define a deque to store detected letters\n",
    "detected_letters = deque(maxlen=20)\n",
    "\n",
    "@app.route('/')\n",
    "def index():\n",
    "    return render_template('index.html')\n",
    "\n",
    "# WebSocket connection to receive frames from the front end\n",
    "@socketio.on('frame')\n",
    "def handle_frame(data):\n",
    "    frame = decode_base64_image(data['frame'])  # Assume the image is sent in base64\n",
    "    letter = process_frame_with_model(frame)\n",
    "    \n",
    "    if letter:\n",
    "        detected_letters.append(letter)\n",
    "        word = ''.join(detected_letters)\n",
    "        corrected_word = spell(word)\n",
    "        emit('letter', {'letter': letter, 'corrected_word': corrected_word})\n",
    "\n",
    "def process_frame_with_model(frame):\n",
    "    img_rgb = cv2.cvtColor(frame, cv2.COLOR_BGR2RGB)\n",
    "    results = hands.process(img_rgb)\n",
    "    if results.multi_hand_landmarks:\n",
    "        for hand_landmarks in results.multi_hand_landmarks:\n",
    "            data_aux = []\n",
    "            x_ = []\n",
    "            y_ = []\n",
    "            for landmark in hand_landmarks.landmark:\n",
    "                x_.append(landmark.x)\n",
    "                y_.append(landmark.y)\n",
    "\n",
    "            for landmark in hand_landmarks.landmark:\n",
    "                data_aux.append(landmark.x - min(x_))\n",
    "                data_aux.append(landmark.y - min(y_))\n",
    "            \n",
    "            data_aux = np.array(data_aux).reshape(1, -1)\n",
    "            prediction = model.predict(data_aux)\n",
    "            alphabet = 'ABCDEFGHIJKLMNOPQRSTUVWXYZ'\n",
    "            return alphabet[prediction[0]]\n",
    "    return None\n",
    "\n",
    "def decode_base64_image(data):\n",
    "    # Convert base64 to a NumPy array (Image)\n",
    "    img_data = base64.b64decode(data.split(\",\")[1])\n",
    "    np_arr = np.frombuffer(img_data, np.uint8)\n",
    "    return cv2.imdecode(np_arr, cv2.IMREAD_COLOR)\n",
    "\n",
    "if __name__ == '__main__':\n",
    "    socketio.run(app, debug=True, allow_unsafe_werkzeug=True)\n"
   ]
  },
  {
   "cell_type": "code",
   "execution_count": 3,
   "id": "1ea88fce-8c56-46d0-b0ff-081278fada75",
   "metadata": {
    "tags": []
   },
   "outputs": [
    {
     "name": "stderr",
     "output_type": "stream",
     "text": [
      "Werkzeug appears to be used in a production deployment. Consider switching to a production web server instead.\n"
     ]
    },
    {
     "name": "stdout",
     "output_type": "stream",
     "text": [
      " * Serving Flask app '__main__'\n",
      " * Debug mode: on\n"
     ]
    },
    {
     "name": "stderr",
     "output_type": "stream",
     "text": [
      "WARNING: This is a development server. Do not use it in a production deployment. Use a production WSGI server instead.\n",
      " * Running on http://127.0.0.1:5000\n",
      "Press CTRL+C to quit\n",
      " * Restarting with watchdog (windowsapi)\n"
     ]
    },
    {
     "ename": "SystemExit",
     "evalue": "1",
     "output_type": "error",
     "traceback": [
      "An exception has occurred, use %tb to see the full traceback.\n",
      "\u001b[1;31mSystemExit\u001b[0m\u001b[1;31m:\u001b[0m 1\n"
     ]
    }
   ],
   "source": [
    "import cv2\n",
    "import mediapipe as mp\n",
    "import numpy as np\n",
    "import pickle\n",
    "from collections import deque\n",
    "from autocorrect import Speller\n",
    "\n",
    "# Load the trained model\n",
    "model_path = 'model.p'  # Update with the correct path to your model\n",
    "with open(model_path, 'rb') as f:\n",
    "    model_dict = pickle.load(f)\n",
    "model = model_dict['model']\n",
    "\n",
    "# Initialize MediaPipe Hands for hand detection\n",
    "mp_hands = mp.solutions.hands\n",
    "hands = mp_hands.Hands(static_image_mode=False, min_detection_confidence=0.3)\n",
    "\n",
    "# Speller for autocorrecting words\n",
    "spell = Speller(lang='en')\n",
    "\n",
    "# Define a deque to store detected letters\n",
    "detected_letters = deque(maxlen=20)  # Adjust maxlen based on how many letters you want to store\n",
    "\n",
    "# Function to combine letters into words and autocorrect them\n",
    "def form_words_and_autocorrect(detected_letters):\n",
    "    word = ''.join(detected_letters)\n",
    "    corrected_word = spell(word)\n",
    "    return corrected_word\n",
    "\n",
    "# Function to process the frame with the trained model and detect a letter\n",
    "def process_frame_with_model(frame):\n",
    "    img_rgb = cv2.cvtColor(frame, cv2.COLOR_BGR2RGB)  # Convert to RGB for MediaPipe processing\n",
    "    results = hands.process(img_rgb)\n",
    "\n",
    "    # If hand landmarks are detected, predict the letter using the model\n",
    "    if results.multi_hand_landmarks:\n",
    "        for hand_landmarks in results.multi_hand_landmarks:\n",
    "            data_aux = []\n",
    "            x_ = []\n",
    "            y_ = []\n",
    "\n",
    "            # Collect x and y coordinates\n",
    "            for landmark in hand_landmarks.landmark:\n",
    "                x = landmark.x\n",
    "                y = landmark.y\n",
    "                x_.append(x)\n",
    "                y_.append(y)\n",
    "\n",
    "            # Normalize the coordinates\n",
    "            for landmark in hand_landmarks.landmark:\n",
    "                data_aux.append(landmark.x - min(x_))\n",
    "                data_aux.append(landmark.y - min(y_))\n",
    "\n",
    "            # Convert the landmarks to a numpy array\n",
    "            data_aux = np.array(data_aux).reshape(1, -1)\n",
    "\n",
    "            # Predict using the model\n",
    "            prediction = model.predict(data_aux)\n",
    "\n",
    "            # Get the predicted letter (assuming it's mapped as an alphabet letter)\n",
    "            alphabet = 'ABCDEFGHIJKLMNOPQRSTUVWXYZ'\n",
    "            return alphabet[prediction[0]]\n",
    "\n",
    "    return None\n",
    "\n",
    "# Capture video from webcam\n",
    "cap = cv2.VideoCapture(0)\n",
    "\n",
    "if not cap.isOpened():\n",
    "    print(\"Error: Could not open webcam.\")\n",
    "    exit()\n",
    "\n",
    "detected_letters = deque(maxlen=20)\n",
    "\n",
    "while True:\n",
    "    ret, frame = cap.read()\n",
    "\n",
    "    if not ret:\n",
    "        print(\"Error: Could not read frame.\")\n",
    "        break\n",
    "\n",
    "    # Process the frame with the model\n",
    "    predicted_letter = process_frame_with_model(frame)\n",
    "\n",
    "    if predicted_letter:\n",
    "        detected_letters.append(predicted_letter)\n",
    "        corrected_word = form_words_and_autocorrect(detected_letters)\n",
    "        print(f\"Detected Letter: {predicted_letter}, Corrected Word: {corrected_word}\")\n",
    "\n",
    "    # Display the frame\n",
    "    cv2.imshow('Webcam Feed', frame)\n",
    "\n",
    "    # Press 'q' to quit the program\n",
    "    if cv2.waitKey(1) & 0xFF == ord('q'):\n",
    "        break\n",
    "\n",
    "cap.release()\n",
    "cv2.destroyAllWindows()\n"
   ]
  }
 ],
 "metadata": {
  "kernelspec": {
   "display_name": "Python 3 (ipykernel)",
   "language": "python",
   "name": "python3"
  },
  "language_info": {
   "codemirror_mode": {
    "name": "ipython",
    "version": 3
   },
   "file_extension": ".py",
   "mimetype": "text/x-python",
   "name": "python",
   "nbconvert_exporter": "python",
   "pygments_lexer": "ipython3",
   "version": "3.11.5"
  }
 },
 "nbformat": 4,
 "nbformat_minor": 5
}
