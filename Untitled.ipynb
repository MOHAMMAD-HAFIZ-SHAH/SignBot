{
 "cells": [
  {
   "cell_type": "code",
   "execution_count": 1,
   "id": "cdd8d38c-7e6e-4ac1-8350-bb4d3f4b180e",
   "metadata": {
    "tags": []
   },
   "outputs": [
    {
     "name": "stdout",
     "output_type": "stream",
     "text": [
      "Requirement already satisfied: flask in c:\\users\\chait\\anaconda3\\lib\\site-packages (2.2.2)\n",
      "Requirement already satisfied: opencv-python in c:\\users\\chait\\anaconda3\\lib\\site-packages (4.10.0.84)\n",
      "Requirement already satisfied: mediapipe in c:\\users\\chait\\appdata\\roaming\\python\\python311\\site-packages (0.10.14)\n",
      "Requirement already satisfied: torch in c:\\users\\chait\\anaconda3\\lib\\site-packages (2.4.1)\n",
      "Collecting pickle5\n",
      "  Downloading pickle5-0.0.11.tar.gz (132 kB)\n",
      "     ---------------------------------------- 0.0/132.1 kB ? eta -:--:--\n",
      "     ----- ------------------------------- 20.5/132.1 kB 320.0 kB/s eta 0:00:01\n",
      "     ---------------------- -------------- 81.9/132.1 kB 919.0 kB/s eta 0:00:01\n",
      "     -------------------------------------- 132.1/132.1 kB 1.3 MB/s eta 0:00:00\n",
      "  Preparing metadata (setup.py): started\n",
      "  Preparing metadata (setup.py): finished with status 'done'\n",
      "Requirement already satisfied: Werkzeug>=2.2.2 in c:\\users\\chait\\anaconda3\\lib\\site-packages (from flask) (2.2.3)\n",
      "Requirement already satisfied: Jinja2>=3.0 in c:\\users\\chait\\anaconda3\\lib\\site-packages (from flask) (3.1.2)\n",
      "Requirement already satisfied: itsdangerous>=2.0 in c:\\users\\chait\\anaconda3\\lib\\site-packages (from flask) (2.0.1)\n",
      "Requirement already satisfied: click>=8.0 in c:\\users\\chait\\anaconda3\\lib\\site-packages (from flask) (8.0.4)\n",
      "Requirement already satisfied: numpy>=1.21.2 in c:\\users\\chait\\anaconda3\\lib\\site-packages (from opencv-python) (1.24.3)\n",
      "Requirement already satisfied: absl-py in c:\\users\\chait\\appdata\\roaming\\python\\python311\\site-packages (from mediapipe) (2.1.0)\n",
      "Requirement already satisfied: attrs>=19.1.0 in c:\\users\\chait\\anaconda3\\lib\\site-packages (from mediapipe) (22.1.0)\n",
      "Requirement already satisfied: flatbuffers>=2.0 in c:\\users\\chait\\anaconda3\\lib\\site-packages (from mediapipe) (24.3.25)\n",
      "Requirement already satisfied: jax in c:\\users\\chait\\appdata\\roaming\\python\\python311\\site-packages (from mediapipe) (0.4.31)\n",
      "Requirement already satisfied: jaxlib in c:\\users\\chait\\appdata\\roaming\\python\\python311\\site-packages (from mediapipe) (0.4.31)\n",
      "Requirement already satisfied: matplotlib in c:\\users\\chait\\anaconda3\\lib\\site-packages (from mediapipe) (3.7.2)\n",
      "Requirement already satisfied: opencv-contrib-python in c:\\users\\chait\\appdata\\roaming\\python\\python311\\site-packages (from mediapipe) (4.10.0.84)\n",
      "Requirement already satisfied: protobuf<5,>=4.25.3 in c:\\users\\chait\\anaconda3\\lib\\site-packages (from mediapipe) (4.25.4)\n",
      "Requirement already satisfied: sounddevice>=0.4.4 in c:\\users\\chait\\appdata\\roaming\\python\\python311\\site-packages (from mediapipe) (0.5.0)\n",
      "Requirement already satisfied: filelock in c:\\users\\chait\\anaconda3\\lib\\site-packages (from torch) (3.9.0)\n",
      "Requirement already satisfied: typing-extensions>=4.8.0 in c:\\users\\chait\\anaconda3\\lib\\site-packages (from torch) (4.12.2)\n",
      "Requirement already satisfied: sympy in c:\\users\\chait\\anaconda3\\lib\\site-packages (from torch) (1.11.1)\n",
      "Requirement already satisfied: networkx in c:\\users\\chait\\anaconda3\\lib\\site-packages (from torch) (3.1)\n",
      "Requirement already satisfied: fsspec in c:\\users\\chait\\anaconda3\\lib\\site-packages (from torch) (2023.4.0)\n",
      "Requirement already satisfied: colorama in c:\\users\\chait\\anaconda3\\lib\\site-packages (from click>=8.0->flask) (0.4.6)\n",
      "Requirement already satisfied: MarkupSafe>=2.0 in c:\\users\\chait\\anaconda3\\lib\\site-packages (from Jinja2>=3.0->flask) (2.1.1)\n",
      "Requirement already satisfied: CFFI>=1.0 in c:\\users\\chait\\anaconda3\\lib\\site-packages (from sounddevice>=0.4.4->mediapipe) (1.15.1)\n",
      "Requirement already satisfied: ml-dtypes>=0.2.0 in c:\\users\\chait\\appdata\\roaming\\python\\python311\\site-packages (from jax->mediapipe) (0.4.0)\n",
      "Requirement already satisfied: opt-einsum in c:\\users\\chait\\anaconda3\\lib\\site-packages (from jax->mediapipe) (3.3.0)\n",
      "Requirement already satisfied: scipy>=1.10 in c:\\users\\chait\\anaconda3\\lib\\site-packages (from jax->mediapipe) (1.11.1)\n",
      "Requirement already satisfied: contourpy>=1.0.1 in c:\\users\\chait\\anaconda3\\lib\\site-packages (from matplotlib->mediapipe) (1.0.5)\n",
      "Requirement already satisfied: cycler>=0.10 in c:\\users\\chait\\anaconda3\\lib\\site-packages (from matplotlib->mediapipe) (0.11.0)\n",
      "Requirement already satisfied: fonttools>=4.22.0 in c:\\users\\chait\\anaconda3\\lib\\site-packages (from matplotlib->mediapipe) (4.25.0)\n",
      "Requirement already satisfied: kiwisolver>=1.0.1 in c:\\users\\chait\\anaconda3\\lib\\site-packages (from matplotlib->mediapipe) (1.4.4)\n",
      "Requirement already satisfied: packaging>=20.0 in c:\\users\\chait\\anaconda3\\lib\\site-packages (from matplotlib->mediapipe) (23.1)\n",
      "Requirement already satisfied: pillow>=6.2.0 in c:\\users\\chait\\anaconda3\\lib\\site-packages (from matplotlib->mediapipe) (9.4.0)\n",
      "Requirement already satisfied: pyparsing<3.1,>=2.3.1 in c:\\users\\chait\\anaconda3\\lib\\site-packages (from matplotlib->mediapipe) (3.0.9)\n",
      "Requirement already satisfied: python-dateutil>=2.7 in c:\\users\\chait\\anaconda3\\lib\\site-packages (from matplotlib->mediapipe) (2.8.2)\n",
      "Requirement already satisfied: mpmath>=0.19 in c:\\users\\chait\\anaconda3\\lib\\site-packages (from sympy->torch) (1.3.0)\n",
      "Requirement already satisfied: pycparser in c:\\users\\chait\\anaconda3\\lib\\site-packages (from CFFI>=1.0->sounddevice>=0.4.4->mediapipe) (2.21)\n",
      "Requirement already satisfied: six>=1.5 in c:\\users\\chait\\anaconda3\\lib\\site-packages (from python-dateutil>=2.7->matplotlib->mediapipe) (1.16.0)\n",
      "Building wheels for collected packages: pickle5\n",
      "  Building wheel for pickle5 (setup.py): started\n",
      "  Building wheel for pickle5 (setup.py): finished with status 'error'\n",
      "  Running setup.py clean for pickle5\n",
      "Failed to build pickle5\n",
      "Note: you may need to restart the kernel to use updated packages.\n"
     ]
    },
    {
     "name": "stderr",
     "output_type": "stream",
     "text": [
      "  error: subprocess-exited-with-error\n",
      "  \n",
      "  python setup.py bdist_wheel did not run successfully.\n",
      "  exit code: 1\n",
      "  \n",
      "  [17 lines of output]\n",
      "  running bdist_wheel\n",
      "  running build\n",
      "  running build_py\n",
      "  creating build\n",
      "  creating build\\lib.win-amd64-cpython-311\n",
      "  creating build\\lib.win-amd64-cpython-311\\pickle5\n",
      "  copying pickle5\\pickle.py -> build\\lib.win-amd64-cpython-311\\pickle5\n",
      "  copying pickle5\\pickletools.py -> build\\lib.win-amd64-cpython-311\\pickle5\n",
      "  copying pickle5\\__init__.py -> build\\lib.win-amd64-cpython-311\\pickle5\n",
      "  creating build\\lib.win-amd64-cpython-311\\pickle5\\test\n",
      "  copying pickle5\\test\\pickletester.py -> build\\lib.win-amd64-cpython-311\\pickle5\\test\n",
      "  copying pickle5\\test\\test_pickle.py -> build\\lib.win-amd64-cpython-311\\pickle5\\test\n",
      "  copying pickle5\\test\\test_picklebuffer.py -> build\\lib.win-amd64-cpython-311\\pickle5\\test\n",
      "  copying pickle5\\test\\__init__.py -> build\\lib.win-amd64-cpython-311\\pickle5\\test\n",
      "  running build_ext\n",
      "  building 'pickle5._pickle' extension\n",
      "  error: Microsoft Visual C++ 14.0 or greater is required. Get it with \"Microsoft C++ Build Tools\": https://visualstudio.microsoft.com/visual-cpp-build-tools/\n",
      "  [end of output]\n",
      "  \n",
      "  note: This error originates from a subprocess, and is likely not a problem with pip.\n",
      "  ERROR: Failed building wheel for pickle5\n",
      "ERROR: Could not build wheels for pickle5, which is required to install pyproject.toml-based projects\n"
     ]
    }
   ],
   "source": [
    "pip install flask opencv-python mediapipe torch pickle5\n"
   ]
  },
  {
   "cell_type": "code",
   "execution_count": 2,
   "id": "f006b35c-0ff2-45cb-809f-4f3d3cd381b6",
   "metadata": {
    "tags": []
   },
   "outputs": [
    {
     "name": "stdout",
     "output_type": "stream",
     "text": [
      "Requirement already satisfied: opencv-python in c:\\users\\chait\\anaconda3\\lib\\site-packages (4.10.0.84)\n",
      "Requirement already satisfied: mediapipe in c:\\users\\chait\\appdata\\roaming\\python\\python311\\site-packages (0.10.14)\n",
      "Requirement already satisfied: flask in c:\\users\\chait\\anaconda3\\lib\\site-packages (2.2.2)\n",
      "Requirement already satisfied: torch in c:\\users\\chait\\anaconda3\\lib\\site-packages (2.4.1)\n",
      "Requirement already satisfied: numpy>=1.21.2 in c:\\users\\chait\\anaconda3\\lib\\site-packages (from opencv-python) (1.24.3)\n",
      "Requirement already satisfied: absl-py in c:\\users\\chait\\appdata\\roaming\\python\\python311\\site-packages (from mediapipe) (2.1.0)\n",
      "Requirement already satisfied: attrs>=19.1.0 in c:\\users\\chait\\anaconda3\\lib\\site-packages (from mediapipe) (22.1.0)\n",
      "Requirement already satisfied: flatbuffers>=2.0 in c:\\users\\chait\\anaconda3\\lib\\site-packages (from mediapipe) (24.3.25)\n",
      "Requirement already satisfied: jax in c:\\users\\chait\\appdata\\roaming\\python\\python311\\site-packages (from mediapipe) (0.4.31)\n",
      "Requirement already satisfied: jaxlib in c:\\users\\chait\\appdata\\roaming\\python\\python311\\site-packages (from mediapipe) (0.4.31)\n",
      "Requirement already satisfied: matplotlib in c:\\users\\chait\\anaconda3\\lib\\site-packages (from mediapipe) (3.7.2)\n",
      "Requirement already satisfied: opencv-contrib-python in c:\\users\\chait\\appdata\\roaming\\python\\python311\\site-packages (from mediapipe) (4.10.0.84)\n",
      "Requirement already satisfied: protobuf<5,>=4.25.3 in c:\\users\\chait\\anaconda3\\lib\\site-packages (from mediapipe) (4.25.4)\n",
      "Requirement already satisfied: sounddevice>=0.4.4 in c:\\users\\chait\\appdata\\roaming\\python\\python311\\site-packages (from mediapipe) (0.5.0)\n",
      "Requirement already satisfied: Werkzeug>=2.2.2 in c:\\users\\chait\\anaconda3\\lib\\site-packages (from flask) (2.2.3)\n",
      "Requirement already satisfied: Jinja2>=3.0 in c:\\users\\chait\\anaconda3\\lib\\site-packages (from flask) (3.1.2)\n",
      "Requirement already satisfied: itsdangerous>=2.0 in c:\\users\\chait\\anaconda3\\lib\\site-packages (from flask) (2.0.1)\n",
      "Requirement already satisfied: click>=8.0 in c:\\users\\chait\\anaconda3\\lib\\site-packages (from flask) (8.0.4)\n",
      "Requirement already satisfied: filelock in c:\\users\\chait\\anaconda3\\lib\\site-packages (from torch) (3.9.0)\n",
      "Requirement already satisfied: typing-extensions>=4.8.0 in c:\\users\\chait\\anaconda3\\lib\\site-packages (from torch) (4.12.2)\n",
      "Requirement already satisfied: sympy in c:\\users\\chait\\anaconda3\\lib\\site-packages (from torch) (1.11.1)\n",
      "Requirement already satisfied: networkx in c:\\users\\chait\\anaconda3\\lib\\site-packages (from torch) (3.1)\n",
      "Requirement already satisfied: fsspec in c:\\users\\chait\\anaconda3\\lib\\site-packages (from torch) (2023.4.0)\n",
      "Requirement already satisfied: colorama in c:\\users\\chait\\anaconda3\\lib\\site-packages (from click>=8.0->flask) (0.4.6)\n",
      "Requirement already satisfied: MarkupSafe>=2.0 in c:\\users\\chait\\anaconda3\\lib\\site-packages (from Jinja2>=3.0->flask) (2.1.1)\n",
      "Requirement already satisfied: CFFI>=1.0 in c:\\users\\chait\\anaconda3\\lib\\site-packages (from sounddevice>=0.4.4->mediapipe) (1.15.1)\n",
      "Requirement already satisfied: ml-dtypes>=0.2.0 in c:\\users\\chait\\appdata\\roaming\\python\\python311\\site-packages (from jax->mediapipe) (0.4.0)\n",
      "Requirement already satisfied: opt-einsum in c:\\users\\chait\\anaconda3\\lib\\site-packages (from jax->mediapipe) (3.3.0)\n",
      "Requirement already satisfied: scipy>=1.10 in c:\\users\\chait\\anaconda3\\lib\\site-packages (from jax->mediapipe) (1.11.1)\n",
      "Requirement already satisfied: contourpy>=1.0.1 in c:\\users\\chait\\anaconda3\\lib\\site-packages (from matplotlib->mediapipe) (1.0.5)\n",
      "Requirement already satisfied: cycler>=0.10 in c:\\users\\chait\\anaconda3\\lib\\site-packages (from matplotlib->mediapipe) (0.11.0)\n",
      "Requirement already satisfied: fonttools>=4.22.0 in c:\\users\\chait\\anaconda3\\lib\\site-packages (from matplotlib->mediapipe) (4.25.0)\n",
      "Requirement already satisfied: kiwisolver>=1.0.1 in c:\\users\\chait\\anaconda3\\lib\\site-packages (from matplotlib->mediapipe) (1.4.4)\n",
      "Requirement already satisfied: packaging>=20.0 in c:\\users\\chait\\anaconda3\\lib\\site-packages (from matplotlib->mediapipe) (23.1)\n",
      "Requirement already satisfied: pillow>=6.2.0 in c:\\users\\chait\\anaconda3\\lib\\site-packages (from matplotlib->mediapipe) (9.4.0)\n",
      "Requirement already satisfied: pyparsing<3.1,>=2.3.1 in c:\\users\\chait\\anaconda3\\lib\\site-packages (from matplotlib->mediapipe) (3.0.9)\n",
      "Requirement already satisfied: python-dateutil>=2.7 in c:\\users\\chait\\anaconda3\\lib\\site-packages (from matplotlib->mediapipe) (2.8.2)\n",
      "Requirement already satisfied: mpmath>=0.19 in c:\\users\\chait\\anaconda3\\lib\\site-packages (from sympy->torch) (1.3.0)\n",
      "Requirement already satisfied: pycparser in c:\\users\\chait\\anaconda3\\lib\\site-packages (from CFFI>=1.0->sounddevice>=0.4.4->mediapipe) (2.21)\n",
      "Requirement already satisfied: six>=1.5 in c:\\users\\chait\\anaconda3\\lib\\site-packages (from python-dateutil>=2.7->matplotlib->mediapipe) (1.16.0)\n",
      "Note: you may need to restart the kernel to use updated packages.\n"
     ]
    }
   ],
   "source": [
    "pip install opencv-python mediapipe flask torch\n"
   ]
  },
  {
   "cell_type": "code",
   "execution_count": 1,
   "id": "ff78d08b-f55b-4a89-8d08-94d9f30141ea",
   "metadata": {
    "tags": []
   },
   "outputs": [
    {
     "name": "stdout",
     "output_type": "stream",
     "text": [
      "Model loaded successfully.\n"
     ]
    }
   ],
   "source": [
    "import pickle\n",
    "\n",
    "# Load the trained model\n",
    "model_path = r'C:\\Users\\Chait\\welllog.ipynb\\project_directory\\model.p'\n",
    "with open(model_path, 'rb') as f:\n",
    "    model_dict = pickle.load(f)\n",
    "model = model_dict['model']\n",
    "\n",
    "print(\"Model loaded successfully.\")\n"
   ]
  },
  {
   "cell_type": "code",
   "execution_count": 2,
   "id": "12c32b2a-847d-4a1d-a96f-1a4eb1386a36",
   "metadata": {},
   "outputs": [
    {
     "name": "stderr",
     "output_type": "stream",
     "text": [
      "Processing Frames: 100%|██████████| 100/100 [00:03<00:00, 25.62frame/s]\n"
     ]
    }
   ],
   "source": [
    "import cv2\n",
    "import mediapipe as mp\n",
    "import numpy as np\n",
    "import pickle\n",
    "from collections import deque\n",
    "from autocorrect import Speller\n",
    "from tqdm import tqdm  # Progress bar for processing\n",
    "\n",
    "# Load the trained model from the specified path\n",
    "model_path = 'model.p'  # Replace with the correct path if needed\n",
    "with open(model_path, 'rb') as f:\n",
    "    model_dict = pickle.load(f)\n",
    "model = model_dict['model']\n",
    "\n",
    "# Initialize MediaPipe Hands\n",
    "mp_hands = mp.solutions.hands\n",
    "hands = mp_hands.Hands(static_image_mode=False, min_detection_confidence=0.3)\n",
    "\n",
    "# Speller for autocorrecting words\n",
    "spell = Speller(lang='en')\n",
    "\n",
    "# Define a deque to store detected letters\n",
    "detected_letters = deque(maxlen=20)  # Adjust maxlen based on how many letters you want to store\n",
    "\n",
    "# Define a function to combine letters into words and autocorrect them\n",
    "def form_words_and_autocorrect(detected_letters):\n",
    "    word = ''.join(detected_letters)\n",
    "    corrected_word = spell(word)\n",
    "    return corrected_word\n",
    "\n",
    "# Function to display hand landmarks on the frame for debugging\n",
    "def display_hand_landmarks(frame, results):\n",
    "    if results.multi_hand_landmarks:\n",
    "        for hand_landmarks in results.multi_hand_landmarks:\n",
    "            mp.solutions.drawing_utils.draw_landmarks(\n",
    "                frame, hand_landmarks, mp_hands.HAND_CONNECTIONS)\n",
    "\n",
    "# Function to capture and process webcam frames\n",
    "def capture_webcam_frame():\n",
    "    cap = cv2.VideoCapture(0)  # Use the first webcam device\n",
    "    if not cap.isOpened():\n",
    "        print(\"Error: Could not open webcam.\")\n",
    "        return None\n",
    "\n",
    "    frame_count = 0\n",
    "    frame_skip = 5  # You can adjust this to process every nth frame\n",
    "    total_frames = 100  # Define the total number of frames you want to process\n",
    "\n",
    "    with tqdm(total=total_frames, desc=\"Processing Frames\", unit=\"frame\") as pbar:  # Progress bar\n",
    "        while True:\n",
    "            ret, frame = cap.read()\n",
    "            if not ret:\n",
    "                print(\"Error: Could not read frame.\")\n",
    "                break\n",
    "\n",
    "            # Skip frames for performance\n",
    "            if frame_count % frame_skip == 0:\n",
    "                # Process the frame and predict the letter\n",
    "                prediction = process_frame_with_model(frame)\n",
    "\n",
    "                # Display hand landmarks\n",
    "                img_rgb = cv2.cvtColor(frame, cv2.COLOR_BGR2RGB)\n",
    "                results = hands.process(img_rgb)\n",
    "                display_hand_landmarks(frame, results)\n",
    "\n",
    "                # If a letter is detected, append it to the detected_letters deque\n",
    "                if prediction is not None:\n",
    "                    detected_letter = prediction\n",
    "                    detected_letters.append(detected_letter)\n",
    "                    print(f\"Detected Letter: {detected_letter}\")\n",
    "\n",
    "                    # Combine letters into a word, autocorrect, and display the word\n",
    "                    corrected_word = form_words_and_autocorrect(detected_letters)\n",
    "                    print(f\"Corrected Word: {corrected_word}\")\n",
    "\n",
    "            frame_count += 1\n",
    "            pbar.update(1)  # Update the progress bar\n",
    "\n",
    "            # Show the frame with hand landmarks\n",
    "            cv2.imshow('Webcam', frame)\n",
    "\n",
    "            # Press 'q' to quit\n",
    "            if cv2.waitKey(1) & 0xFF == ord('q'):\n",
    "                break\n",
    "\n",
    "            # Stop the progress bar after the total frames are processed\n",
    "            if frame_count >= total_frames:\n",
    "                break\n",
    "\n",
    "    cap.release()\n",
    "    cv2.destroyAllWindows()\n",
    "\n",
    "# Function to process the frame with the trained model and detect a letter\n",
    "def process_frame_with_model(frame):\n",
    "    img_rgb = cv2.cvtColor(frame, cv2.COLOR_BGR2RGB)  # Convert to RGB for MediaPipe processing\n",
    "    results = hands.process(img_rgb)\n",
    "\n",
    "    # If hand landmarks are detected, predict the letter using the model\n",
    "    if results.multi_hand_landmarks:\n",
    "        for hand_landmarks in results.multi_hand_landmarks:\n",
    "            data_aux = []\n",
    "            x_ = []\n",
    "            y_ = []\n",
    "\n",
    "            # Collect x and y coordinates\n",
    "            for landmark in hand_landmarks.landmark:\n",
    "                x = landmark.x\n",
    "                y = landmark.y\n",
    "                x_.append(x)\n",
    "                y_.append(y)\n",
    "\n",
    "            # Normalize the coordinates\n",
    "            for landmark in hand_landmarks.landmark:\n",
    "                data_aux.append(landmark.x - min(x_))\n",
    "                data_aux.append(landmark.y - min(y_))\n",
    "\n",
    "            # Convert the landmarks to a numpy array\n",
    "            data_aux = np.array(data_aux).reshape(1, -1)\n",
    "\n",
    "            # Predict using the model\n",
    "            prediction = model.predict(data_aux)\n",
    "\n",
    "            # Get the predicted letter (assuming it's mapped as an alphabet letter)\n",
    "            alphabet = 'ABCDEFGHIJKLMNOPQRSTUVWXYZ'\n",
    "            return alphabet[prediction[0]]\n",
    "\n",
    "    return None\n",
    "\n",
    "# Start capturing frames and detecting letters\n",
    "capture_webcam_frame()\n"
   ]
  },
  {
   "cell_type": "code",
   "execution_count": 3,
   "id": "2ea36b80-c5bf-4502-a80a-9be74cc8f018",
   "metadata": {
    "tags": []
   },
   "outputs": [],
   "source": [
    "import cv2\n",
    "\n",
    "def test_webcam():\n",
    "    # Open a connection to the first available camera (usually the default webcam)\n",
    "    cap = cv2.VideoCapture(0)\n",
    "    \n",
    "    # Check if the camera is opened successfully\n",
    "    if not cap.isOpened():\n",
    "        print(\"Error: Could not open webcam.\")\n",
    "        return\n",
    "\n",
    "    # Loop to continuously capture frames from the webcam\n",
    "    while True:\n",
    "        ret, frame = cap.read()  # Capture a frame\n",
    "        if not ret:\n",
    "            print(\"Error: Could not read frame.\")\n",
    "            break\n",
    "\n",
    "        # Display the frame in a window called 'Webcam Test'\n",
    "        cv2.imshow('Webcam Test', frame)\n",
    "\n",
    "        # Press 'q' to quit the webcam feed\n",
    "        if cv2.waitKey(1) & 0xFF == ord('q'):\n",
    "            break\n",
    "\n",
    "    # Release the camera and close the window\n",
    "    cap.release()\n",
    "    cv2.destroyAllWindows()\n",
    "\n",
    "# Run the webcam test function\n",
    "test_webcam()\n"
   ]
  },
  {
   "cell_type": "code",
   "execution_count": 4,
   "id": "5d8b7d97-38b9-4cda-8159-40b497872306",
   "metadata": {
    "tags": []
   },
   "outputs": [
    {
     "name": "stderr",
     "output_type": "stream",
     "text": [
      "Processing Frames:  55%|█████▌    | 55/100 [00:02<00:01, 30.27frame/s]C:\\Users\\Chait\\anaconda3\\Lib\\site-packages\\google\\protobuf\\symbol_database.py:55: UserWarning: SymbolDatabase.GetPrototype() is deprecated. Please use message_factory.GetMessageClass() instead. SymbolDatabase.GetPrototype() will be removed soon.\n",
      "  warnings.warn('SymbolDatabase.GetPrototype() is deprecated. Please '\n",
      "C:\\Users\\Chait\\anaconda3\\Lib\\site-packages\\google\\protobuf\\symbol_database.py:55: UserWarning: SymbolDatabase.GetPrototype() is deprecated. Please use message_factory.GetMessageClass() instead. SymbolDatabase.GetPrototype() will be removed soon.\n",
      "  warnings.warn('SymbolDatabase.GetPrototype() is deprecated. Please '\n",
      "Processing Frames:  59%|█████▉    | 59/100 [00:02<00:01, 27.95frame/s]"
     ]
    },
    {
     "name": "stdout",
     "output_type": "stream",
     "text": [
      "Detected Letter: B\n",
      "Corrected Word: B\n"
     ]
    },
    {
     "name": "stderr",
     "output_type": "stream",
     "text": [
      "C:\\Users\\Chait\\anaconda3\\Lib\\site-packages\\google\\protobuf\\symbol_database.py:55: UserWarning: SymbolDatabase.GetPrototype() is deprecated. Please use message_factory.GetMessageClass() instead. SymbolDatabase.GetPrototype() will be removed soon.\n",
      "  warnings.warn('SymbolDatabase.GetPrototype() is deprecated. Please '\n",
      "Processing Frames:  62%|██████▏   | 62/100 [00:02<00:01, 25.74frame/s]C:\\Users\\Chait\\anaconda3\\Lib\\site-packages\\google\\protobuf\\symbol_database.py:55: UserWarning: SymbolDatabase.GetPrototype() is deprecated. Please use message_factory.GetMessageClass() instead. SymbolDatabase.GetPrototype() will be removed soon.\n",
      "  warnings.warn('SymbolDatabase.GetPrototype() is deprecated. Please '\n"
     ]
    },
    {
     "name": "stdout",
     "output_type": "stream",
     "text": [
      "Detected Letter: B\n",
      "Corrected Word: By\n"
     ]
    },
    {
     "name": "stderr",
     "output_type": "stream",
     "text": [
      "Processing Frames:  70%|███████   | 70/100 [00:02<00:01, 28.01frame/s]C:\\Users\\Chait\\anaconda3\\Lib\\site-packages\\google\\protobuf\\symbol_database.py:55: UserWarning: SymbolDatabase.GetPrototype() is deprecated. Please use message_factory.GetMessageClass() instead. SymbolDatabase.GetPrototype() will be removed soon.\n",
      "  warnings.warn('SymbolDatabase.GetPrototype() is deprecated. Please '\n"
     ]
    },
    {
     "name": "stdout",
     "output_type": "stream",
     "text": [
      "Detected Letter: B\n",
      "Corrected Word: BB\n"
     ]
    },
    {
     "name": "stderr",
     "output_type": "stream",
     "text": [
      "Processing Frames:  73%|███████▎  | 73/100 [00:02<00:01, 25.31frame/s]C:\\Users\\Chait\\anaconda3\\Lib\\site-packages\\google\\protobuf\\symbol_database.py:55: UserWarning: SymbolDatabase.GetPrototype() is deprecated. Please use message_factory.GetMessageClass() instead. SymbolDatabase.GetPrototype() will be removed soon.\n",
      "  warnings.warn('SymbolDatabase.GetPrototype() is deprecated. Please '\n"
     ]
    },
    {
     "name": "stdout",
     "output_type": "stream",
     "text": [
      "Detected Letter: B\n",
      "Corrected Word: BBB\n"
     ]
    },
    {
     "name": "stderr",
     "output_type": "stream",
     "text": [
      "Processing Frames:  80%|████████  | 80/100 [00:03<00:00, 24.92frame/s]"
     ]
    },
    {
     "name": "stdout",
     "output_type": "stream",
     "text": [
      "Detected Letter: B\n",
      "Corrected Word: BBB\n"
     ]
    },
    {
     "name": "stderr",
     "output_type": "stream",
     "text": [
      "C:\\Users\\Chait\\anaconda3\\Lib\\site-packages\\google\\protobuf\\symbol_database.py:55: UserWarning: SymbolDatabase.GetPrototype() is deprecated. Please use message_factory.GetMessageClass() instead. SymbolDatabase.GetPrototype() will be removed soon.\n",
      "  warnings.warn('SymbolDatabase.GetPrototype() is deprecated. Please '\n",
      "Processing Frames:  83%|████████▎ | 83/100 [00:03<00:00, 21.79frame/s]"
     ]
    },
    {
     "name": "stdout",
     "output_type": "stream",
     "text": [
      "Detected Letter: W\n",
      "Corrected Word: BBBBBW\n"
     ]
    },
    {
     "name": "stderr",
     "output_type": "stream",
     "text": [
      "C:\\Users\\Chait\\anaconda3\\Lib\\site-packages\\google\\protobuf\\symbol_database.py:55: UserWarning: SymbolDatabase.GetPrototype() is deprecated. Please use message_factory.GetMessageClass() instead. SymbolDatabase.GetPrototype() will be removed soon.\n",
      "  warnings.warn('SymbolDatabase.GetPrototype() is deprecated. Please '\n",
      "Processing Frames:  90%|█████████ | 90/100 [00:03<00:00, 22.93frame/s]"
     ]
    },
    {
     "name": "stdout",
     "output_type": "stream",
     "text": [
      "Detected Letter: W\n",
      "Corrected Word: BBBBBWW\n"
     ]
    },
    {
     "name": "stderr",
     "output_type": "stream",
     "text": [
      "C:\\Users\\Chait\\anaconda3\\Lib\\site-packages\\google\\protobuf\\symbol_database.py:55: UserWarning: SymbolDatabase.GetPrototype() is deprecated. Please use message_factory.GetMessageClass() instead. SymbolDatabase.GetPrototype() will be removed soon.\n",
      "  warnings.warn('SymbolDatabase.GetPrototype() is deprecated. Please '\n",
      "Processing Frames:  93%|█████████▎| 93/100 [00:03<00:00, 18.70frame/s]"
     ]
    },
    {
     "name": "stdout",
     "output_type": "stream",
     "text": [
      "Detected Letter: W\n",
      "Corrected Word: BBBBBWWW\n"
     ]
    },
    {
     "name": "stderr",
     "output_type": "stream",
     "text": [
      "C:\\Users\\Chait\\anaconda3\\Lib\\site-packages\\google\\protobuf\\symbol_database.py:55: UserWarning: SymbolDatabase.GetPrototype() is deprecated. Please use message_factory.GetMessageClass() instead. SymbolDatabase.GetPrototype() will be removed soon.\n",
      "  warnings.warn('SymbolDatabase.GetPrototype() is deprecated. Please '\n",
      "Processing Frames:  96%|█████████▌| 96/100 [00:04<00:00, 16.78frame/s]"
     ]
    },
    {
     "name": "stdout",
     "output_type": "stream",
     "text": [
      "Detected Letter: R\n",
      "Corrected Word: BBBBBWWWR\n"
     ]
    },
    {
     "name": "stderr",
     "output_type": "stream",
     "text": [
      "Processing Frames: 100%|██████████| 100/100 [00:04<00:00, 23.52frame/s]\n"
     ]
    }
   ],
   "source": [
    "import cv2\n",
    "import mediapipe as mp\n",
    "import numpy as np\n",
    "import pickle\n",
    "from collections import deque\n",
    "from autocorrect import Speller\n",
    "from tqdm import tqdm  # Progress bar for processing\n",
    "\n",
    "# Load the trained model\n",
    "model_path = 'model.p'  # Replace with the correct model path if needed\n",
    "with open(model_path, 'rb') as f:\n",
    "    model_dict = pickle.load(f)\n",
    "model = model_dict['model']\n",
    "\n",
    "# Initialize MediaPipe Hands for hand detection\n",
    "mp_hands = mp.solutions.hands\n",
    "hands = mp_hands.Hands(static_image_mode=False, min_detection_confidence=0.3)\n",
    "\n",
    "# Speller for autocorrecting words\n",
    "spell = Speller(lang='en')\n",
    "\n",
    "# Define a deque to store detected letters\n",
    "detected_letters = deque(maxlen=20)  # Adjust maxlen based on how many letters you want to store\n",
    "\n",
    "# Function to combine letters into words and autocorrect them\n",
    "def form_words_and_autocorrect(detected_letters):\n",
    "    word = ''.join(detected_letters)\n",
    "    corrected_word = spell(word)\n",
    "    return corrected_word\n",
    "\n",
    "# Function to display hand landmarks on the frame for debugging\n",
    "def display_hand_landmarks(frame, results):\n",
    "    if results.multi_hand_landmarks:\n",
    "        for hand_landmarks in results.multi_hand_landmarks:\n",
    "            mp.solutions.drawing_utils.draw_landmarks(\n",
    "                frame, hand_landmarks, mp_hands.HAND_CONNECTIONS)\n",
    "\n",
    "# Function to capture and process webcam frames\n",
    "def capture_webcam_frame():\n",
    "    cap = cv2.VideoCapture(0)  # Use the first webcam device\n",
    "    if not cap.isOpened():\n",
    "        print(\"Error: Could not open webcam.\")\n",
    "        return None\n",
    "\n",
    "    frame_count = 0\n",
    "    frame_skip = 5  # You can adjust this to process every nth frame\n",
    "    total_frames = 100  # Define the total number of frames you want to process\n",
    "\n",
    "    with tqdm(total=total_frames, desc=\"Processing Frames\", unit=\"frame\") as pbar:  # Progress bar\n",
    "        while True:\n",
    "            ret, frame = cap.read()\n",
    "            if not ret:\n",
    "                print(\"Error: Could not read frame.\")\n",
    "                break\n",
    "\n",
    "            # Skip frames for performance\n",
    "            if frame_count % frame_skip == 0:\n",
    "                # Process the frame and predict the letter\n",
    "                prediction = process_frame_with_model(frame)\n",
    "\n",
    "                # Display hand landmarks\n",
    "                img_rgb = cv2.cvtColor(frame, cv2.COLOR_BGR2RGB)\n",
    "                results = hands.process(img_rgb)\n",
    "                display_hand_landmarks(frame, results)\n",
    "\n",
    "                # If a letter is detected, append it to the detected_letters deque\n",
    "                if prediction is not None:\n",
    "                    detected_letter = prediction\n",
    "                    detected_letters.append(detected_letter)\n",
    "                    print(f\"Detected Letter: {detected_letter}\")\n",
    "\n",
    "                    # Combine letters into a word, autocorrect, and display the word\n",
    "                    corrected_word = form_words_and_autocorrect(detected_letters)\n",
    "                    print(f\"Corrected Word: {corrected_word}\")\n",
    "\n",
    "            frame_count += 1\n",
    "            pbar.update(1)  # Update the progress bar\n",
    "\n",
    "            # Show the frame with hand landmarks\n",
    "            cv2.imshow('Webcam', frame)\n",
    "\n",
    "            # Press 'q' to quit\n",
    "            if cv2.waitKey(1) & 0xFF == ord('q'):\n",
    "                break\n",
    "\n",
    "            # Stop the progress bar after the total frames are processed\n",
    "            if frame_count >= total_frames:\n",
    "                break\n",
    "\n",
    "    cap.release()\n",
    "    cv2.destroyAllWindows()\n",
    "\n",
    "# Function to process the frame with the trained model and detect a letter\n",
    "def process_frame_with_model(frame):\n",
    "    img_rgb = cv2.cvtColor(frame, cv2.COLOR_BGR2RGB)  # Convert to RGB for MediaPipe processing\n",
    "    results = hands.process(img_rgb)\n",
    "\n",
    "    # If hand landmarks are detected, predict the letter using the model\n",
    "    if results.multi_hand_landmarks:\n",
    "        for hand_landmarks in results.multi_hand_landmarks:\n",
    "            data_aux = []\n",
    "            x_ = []\n",
    "            y_ = []\n",
    "\n",
    "            # Collect x and y coordinates\n",
    "            for landmark in hand_landmarks.landmark:\n",
    "                x = landmark.x\n",
    "                y = landmark.y\n",
    "                x_.append(x)\n",
    "                y_.append(y)\n",
    "\n",
    "            # Normalize the coordinates\n",
    "            for landmark in hand_landmarks.landmark:\n",
    "                data_aux.append(landmark.x - min(x_))\n",
    "                data_aux.append(landmark.y - min(y_))\n",
    "\n",
    "            # Convert the landmarks to a numpy array\n",
    "            data_aux = np.array(data_aux).reshape(1, -1)\n",
    "\n",
    "            # Predict using the model\n",
    "            prediction = model.predict(data_aux)\n",
    "\n",
    "            # Get the predicted letter (assuming it's mapped as an alphabet letter)\n",
    "            alphabet = 'ABCDEFGHIJKLMNOPQRSTUVWXYZ'\n",
    "            return alphabet[prediction[0]]\n",
    "\n",
    "    return None\n",
    "\n",
    "# Start capturing frames and detecting letters\n",
    "capture_webcam_frame()\n"
   ]
  },
  {
   "cell_type": "code",
   "execution_count": 6,
   "id": "927b4612-1d97-4f0a-b083-8b35e2a3db5e",
   "metadata": {
    "tags": []
   },
   "outputs": [
    {
     "name": "stdout",
     "output_type": "stream",
     "text": [
      "The nltk version is 3.8.1.\n",
      "The scikit-learn version is 1.3.0.\n"
     ]
    }
   ],
   "source": [
    "import nltk\n",
    "import sklearn\n",
    "\n",
    "print('The nltk version is {}.'.format(nltk.__version__))\n",
    "print('The scikit-learn version is {}.'.format(sklearn.__version__))"
   ]
  },
  {
   "cell_type": "code",
   "execution_count": 7,
   "id": "65667931-b4c9-4bd2-b8fb-bbeb87e89eaa",
   "metadata": {
    "tags": []
   },
   "outputs": [
    {
     "ename": "ModuleNotFoundError",
     "evalue": "No module named 'flask_socketio'",
     "output_type": "error",
     "traceback": [
      "\u001b[1;31m---------------------------------------------------------------------------\u001b[0m",
      "\u001b[1;31mModuleNotFoundError\u001b[0m                       Traceback (most recent call last)",
      "Cell \u001b[1;32mIn[7], line 2\u001b[0m\n\u001b[0;32m      1\u001b[0m \u001b[38;5;28;01mfrom\u001b[39;00m \u001b[38;5;21;01mflask\u001b[39;00m \u001b[38;5;28;01mimport\u001b[39;00m Flask, render_template, request, jsonify\n\u001b[1;32m----> 2\u001b[0m \u001b[38;5;28;01mfrom\u001b[39;00m \u001b[38;5;21;01mflask_socketio\u001b[39;00m \u001b[38;5;28;01mimport\u001b[39;00m SocketIO, emit\n\u001b[0;32m      3\u001b[0m \u001b[38;5;28;01mimport\u001b[39;00m \u001b[38;5;21;01mcv2\u001b[39;00m\n\u001b[0;32m      4\u001b[0m \u001b[38;5;28;01mimport\u001b[39;00m \u001b[38;5;21;01mmediapipe\u001b[39;00m \u001b[38;5;28;01mas\u001b[39;00m \u001b[38;5;21;01mmp\u001b[39;00m\n",
      "\u001b[1;31mModuleNotFoundError\u001b[0m: No module named 'flask_socketio'"
     ]
    }
   ],
   "source": [
    "from flask import Flask, render_template, request, jsonify\n",
    "from flask_socketio import SocketIO, emit\n",
    "import cv2\n",
    "import mediapipe as mp\n",
    "import numpy as np\n",
    "import pickle\n",
    "from collections import deque\n",
    "from autocorrect import Speller\n",
    "\n",
    "app = Flask(__name__)\n",
    "socketio = SocketIO(app)\n",
    "\n",
    "# Load the trained model\n",
    "model_path = 'model.p'  # Replace with the correct model path\n",
    "with open(model_path, 'rb') as f:\n",
    "    model_dict = pickle.load(f)\n",
    "model = model_dict['model']\n",
    "\n",
    "# Initialize MediaPipe Hands for hand detection\n",
    "mp_hands = mp.solutions.hands\n",
    "hands = mp_hands.Hands(static_image_mode=False, min_detection_confidence=0.3)\n",
    "\n",
    "# Speller for autocorrecting words\n",
    "spell = Speller(lang='en')\n",
    "\n",
    "# Define a deque to store detected letters\n",
    "detected_letters = deque(maxlen=20)\n",
    "\n",
    "@app.route('/')\n",
    "def index():\n",
    "    return render_template('index.html')\n",
    "\n",
    "# WebSocket connection to receive frames from the front end\n",
    "@socketio.on('frame')\n",
    "def handle_frame(data):\n",
    "    frame = decode_base64_image(data['frame'])  # Assume the image is sent in base64\n",
    "    letter = process_frame_with_model(frame)\n",
    "    \n",
    "    if letter:\n",
    "        detected_letters.append(letter)\n",
    "        word = ''.join(detected_letters)\n",
    "        corrected_word = spell(word)\n",
    "        emit('letter', {'letter': letter, 'corrected_word': corrected_word})\n",
    "\n",
    "def process_frame_with_model(frame):\n",
    "    img_rgb = cv2.cvtColor(frame, cv2.COLOR_BGR2RGB)\n",
    "    results = hands.process(img_rgb)\n",
    "    if results.multi_hand_landmarks:\n",
    "        for hand_landmarks in results.multi_hand_landmarks:\n",
    "            data_aux = []\n",
    "            x_ = []\n",
    "            y_ = []\n",
    "            for landmark in hand_landmarks.landmark:\n",
    "                x_.append(landmark.x)\n",
    "                y_.append(landmark.y)\n",
    "\n",
    "            for landmark in hand_landmarks.landmark:\n",
    "                data_aux.append(landmark.x - min(x_))\n",
    "                data_aux.append(landmark.y - min(y_))\n",
    "            \n",
    "            data_aux = np.array(data_aux).reshape(1, -1)\n",
    "            prediction = model.predict(data_aux)\n",
    "            alphabet = 'ABCDEFGHIJKLMNOPQRSTUVWXYZ'\n",
    "            return alphabet[prediction[0]]\n",
    "    return None\n",
    "\n",
    "def decode_base64_image(data):\n",
    "    # Convert base64 to a NumPy array (Image)\n",
    "    return cv2.imdecode(np.fromstring(base64.b64decode(data), np.uint8), cv2.IMREAD_COLOR)\n",
    "\n",
    "if __name__ == '__main__':\n",
    "    socketio.run(app, debug=True)\n"
   ]
  },
  {
   "cell_type": "code",
   "execution_count": 9,
   "id": "b3141aef-8c59-4df7-a5c8-4a4f826ff772",
   "metadata": {
    "tags": []
   },
   "outputs": [
    {
     "name": "stdout",
     "output_type": "stream",
     "text": [
      "Requirement already satisfied: Flask in c:\\users\\chait\\anaconda3\\lib\\site-packages (2.2.2)\n",
      "Requirement already satisfied: Werkzeug>=2.2.2 in c:\\users\\chait\\anaconda3\\lib\\site-packages (from Flask) (2.2.3)\n",
      "Requirement already satisfied: Jinja2>=3.0 in c:\\users\\chait\\anaconda3\\lib\\site-packages (from Flask) (3.1.2)\n",
      "Requirement already satisfied: itsdangerous>=2.0 in c:\\users\\chait\\anaconda3\\lib\\site-packages (from Flask) (2.0.1)\n",
      "Requirement already satisfied: click>=8.0 in c:\\users\\chait\\anaconda3\\lib\\site-packages (from Flask) (8.0.4)\n",
      "Requirement already satisfied: colorama in c:\\users\\chait\\anaconda3\\lib\\site-packages (from click>=8.0->Flask) (0.4.6)\n",
      "Requirement already satisfied: MarkupSafe>=2.0 in c:\\users\\chait\\anaconda3\\lib\\site-packages (from Jinja2>=3.0->Flask) (2.1.1)\n",
      "Note: you may need to restart the kernel to use updated packages.\n",
      "Collecting flask-socketio\n",
      "  Obtaining dependency information for flask-socketio from https://files.pythonhosted.org/packages/44/98/8e04d087fb40d69376c3b84b59e0447dfa2f7a4cccfcd4b7e5f0460fff51/Flask_SocketIO-5.3.7-py3-none-any.whl.metadata\n",
      "  Downloading Flask_SocketIO-5.3.7-py3-none-any.whl.metadata (2.6 kB)\n",
      "Requirement already satisfied: Flask>=0.9 in c:\\users\\chait\\anaconda3\\lib\\site-packages (from flask-socketio) (2.2.2)\n",
      "Collecting python-socketio>=5.0.2 (from flask-socketio)\n",
      "  Obtaining dependency information for python-socketio>=5.0.2 from https://files.pythonhosted.org/packages/7e/9a/52b94c8c9516e07844d3da3d0da3e68649f172aeeace8d7a1becca9e6111/python_socketio-5.11.4-py3-none-any.whl.metadata\n",
      "  Downloading python_socketio-5.11.4-py3-none-any.whl.metadata (3.2 kB)\n",
      "Requirement already satisfied: Werkzeug>=2.2.2 in c:\\users\\chait\\anaconda3\\lib\\site-packages (from Flask>=0.9->flask-socketio) (2.2.3)\n",
      "Requirement already satisfied: Jinja2>=3.0 in c:\\users\\chait\\anaconda3\\lib\\site-packages (from Flask>=0.9->flask-socketio) (3.1.2)\n",
      "Requirement already satisfied: itsdangerous>=2.0 in c:\\users\\chait\\anaconda3\\lib\\site-packages (from Flask>=0.9->flask-socketio) (2.0.1)\n",
      "Requirement already satisfied: click>=8.0 in c:\\users\\chait\\anaconda3\\lib\\site-packages (from Flask>=0.9->flask-socketio) (8.0.4)\n",
      "Collecting bidict>=0.21.0 (from python-socketio>=5.0.2->flask-socketio)\n",
      "  Obtaining dependency information for bidict>=0.21.0 from https://files.pythonhosted.org/packages/99/37/e8730c3587a65eb5645d4aba2d27aae48e8003614d6aaf15dda67f702f1f/bidict-0.23.1-py3-none-any.whl.metadata\n",
      "  Downloading bidict-0.23.1-py3-none-any.whl.metadata (8.7 kB)\n",
      "Collecting python-engineio>=4.8.0 (from python-socketio>=5.0.2->flask-socketio)\n",
      "  Obtaining dependency information for python-engineio>=4.8.0 from https://files.pythonhosted.org/packages/ad/38/4642c75241686c9cf05d23c50b9ffbd760507292f12fdfb04adc2ab5d34a/python_engineio-4.9.1-py3-none-any.whl.metadata\n",
      "  Downloading python_engineio-4.9.1-py3-none-any.whl.metadata (2.2 kB)\n",
      "Requirement already satisfied: colorama in c:\\users\\chait\\anaconda3\\lib\\site-packages (from click>=8.0->Flask>=0.9->flask-socketio) (0.4.6)\n",
      "Requirement already satisfied: MarkupSafe>=2.0 in c:\\users\\chait\\anaconda3\\lib\\site-packages (from Jinja2>=3.0->Flask>=0.9->flask-socketio) (2.1.1)\n",
      "Collecting simple-websocket>=0.10.0 (from python-engineio>=4.8.0->python-socketio>=5.0.2->flask-socketio)\n",
      "  Obtaining dependency information for simple-websocket>=0.10.0 from https://files.pythonhosted.org/packages/6d/ea/288a8ac1d9551354488ff60c0ac6a76acc3b6b60f0460ac1944c75e240da/simple_websocket-1.0.0-py3-none-any.whl.metadata\n",
      "  Downloading simple_websocket-1.0.0-py3-none-any.whl.metadata (1.3 kB)\n",
      "Collecting wsproto (from simple-websocket>=0.10.0->python-engineio>=4.8.0->python-socketio>=5.0.2->flask-socketio)\n",
      "  Obtaining dependency information for wsproto from https://files.pythonhosted.org/packages/78/58/e860788190eba3bcce367f74d29c4675466ce8dddfba85f7827588416f01/wsproto-1.2.0-py3-none-any.whl.metadata\n",
      "  Downloading wsproto-1.2.0-py3-none-any.whl.metadata (5.6 kB)\n",
      "Collecting h11<1,>=0.9.0 (from wsproto->simple-websocket>=0.10.0->python-engineio>=4.8.0->python-socketio>=5.0.2->flask-socketio)\n",
      "  Obtaining dependency information for h11<1,>=0.9.0 from https://files.pythonhosted.org/packages/95/04/ff642e65ad6b90db43e668d70ffb6736436c7ce41fcc549f4e9472234127/h11-0.14.0-py3-none-any.whl.metadata\n",
      "  Downloading h11-0.14.0-py3-none-any.whl.metadata (8.2 kB)\n",
      "Downloading Flask_SocketIO-5.3.7-py3-none-any.whl (18 kB)\n",
      "Downloading python_socketio-5.11.4-py3-none-any.whl (76 kB)\n",
      "   ---------------------------------------- 0.0/76.2 kB ? eta -:--:--\n",
      "   -------------------------------- ------- 61.4/76.2 kB 3.2 MB/s eta 0:00:01\n",
      "   ---------------------------------------- 76.2/76.2 kB 1.4 MB/s eta 0:00:00\n",
      "Downloading bidict-0.23.1-py3-none-any.whl (32 kB)\n",
      "Downloading python_engineio-4.9.1-py3-none-any.whl (57 kB)\n",
      "   ---------------------------------------- 0.0/57.7 kB ? eta -:--:--\n",
      "   ---------------------------------------- 57.7/57.7 kB 3.0 MB/s eta 0:00:00\n",
      "Downloading simple_websocket-1.0.0-py3-none-any.whl (13 kB)\n",
      "Downloading wsproto-1.2.0-py3-none-any.whl (24 kB)\n",
      "Downloading h11-0.14.0-py3-none-any.whl (58 kB)\n",
      "   ---------------------------------------- 0.0/58.3 kB ? eta -:--:--\n",
      "   ---------------------------------------- 58.3/58.3 kB 3.0 MB/s eta 0:00:00\n",
      "Installing collected packages: h11, bidict, wsproto, simple-websocket, python-engineio, python-socketio, flask-socketio\n",
      "Successfully installed bidict-0.23.1 flask-socketio-5.3.7 h11-0.14.0 python-engineio-4.9.1 python-socketio-5.11.4 simple-websocket-1.0.0 wsproto-1.2.0\n",
      "Note: you may need to restart the kernel to use updated packages.\n",
      "Requirement already satisfied: opencv-python in c:\\users\\chait\\anaconda3\\lib\\site-packages (4.10.0.84)\n",
      "Requirement already satisfied: numpy>=1.21.2 in c:\\users\\chait\\anaconda3\\lib\\site-packages (from opencv-python) (1.24.3)\n",
      "Note: you may need to restart the kernel to use updated packages.\n",
      "Requirement already satisfied: mediapipe in c:\\users\\chait\\appdata\\roaming\\python\\python311\\site-packages (0.10.14)\n",
      "Requirement already satisfied: absl-py in c:\\users\\chait\\appdata\\roaming\\python\\python311\\site-packages (from mediapipe) (2.1.0)\n",
      "Requirement already satisfied: attrs>=19.1.0 in c:\\users\\chait\\anaconda3\\lib\\site-packages (from mediapipe) (22.1.0)\n",
      "Requirement already satisfied: flatbuffers>=2.0 in c:\\users\\chait\\anaconda3\\lib\\site-packages (from mediapipe) (24.3.25)\n",
      "Requirement already satisfied: jax in c:\\users\\chait\\appdata\\roaming\\python\\python311\\site-packages (from mediapipe) (0.4.31)\n",
      "Requirement already satisfied: jaxlib in c:\\users\\chait\\appdata\\roaming\\python\\python311\\site-packages (from mediapipe) (0.4.31)\n",
      "Requirement already satisfied: matplotlib in c:\\users\\chait\\anaconda3\\lib\\site-packages (from mediapipe) (3.7.2)\n",
      "Requirement already satisfied: numpy in c:\\users\\chait\\anaconda3\\lib\\site-packages (from mediapipe) (1.24.3)\n",
      "Requirement already satisfied: opencv-contrib-python in c:\\users\\chait\\appdata\\roaming\\python\\python311\\site-packages (from mediapipe) (4.10.0.84)\n",
      "Requirement already satisfied: protobuf<5,>=4.25.3 in c:\\users\\chait\\anaconda3\\lib\\site-packages (from mediapipe) (4.25.4)\n",
      "Requirement already satisfied: sounddevice>=0.4.4 in c:\\users\\chait\\appdata\\roaming\\python\\python311\\site-packages (from mediapipe) (0.5.0)\n",
      "Requirement already satisfied: CFFI>=1.0 in c:\\users\\chait\\anaconda3\\lib\\site-packages (from sounddevice>=0.4.4->mediapipe) (1.15.1)\n",
      "Requirement already satisfied: ml-dtypes>=0.2.0 in c:\\users\\chait\\appdata\\roaming\\python\\python311\\site-packages (from jax->mediapipe) (0.4.0)\n",
      "Requirement already satisfied: opt-einsum in c:\\users\\chait\\anaconda3\\lib\\site-packages (from jax->mediapipe) (3.3.0)\n",
      "Requirement already satisfied: scipy>=1.10 in c:\\users\\chait\\anaconda3\\lib\\site-packages (from jax->mediapipe) (1.11.1)\n",
      "Requirement already satisfied: contourpy>=1.0.1 in c:\\users\\chait\\anaconda3\\lib\\site-packages (from matplotlib->mediapipe) (1.0.5)\n",
      "Requirement already satisfied: cycler>=0.10 in c:\\users\\chait\\anaconda3\\lib\\site-packages (from matplotlib->mediapipe) (0.11.0)\n",
      "Requirement already satisfied: fonttools>=4.22.0 in c:\\users\\chait\\anaconda3\\lib\\site-packages (from matplotlib->mediapipe) (4.25.0)\n",
      "Requirement already satisfied: kiwisolver>=1.0.1 in c:\\users\\chait\\anaconda3\\lib\\site-packages (from matplotlib->mediapipe) (1.4.4)\n",
      "Requirement already satisfied: packaging>=20.0 in c:\\users\\chait\\anaconda3\\lib\\site-packages (from matplotlib->mediapipe) (23.1)\n",
      "Requirement already satisfied: pillow>=6.2.0 in c:\\users\\chait\\anaconda3\\lib\\site-packages (from matplotlib->mediapipe) (9.4.0)\n",
      "Requirement already satisfied: pyparsing<3.1,>=2.3.1 in c:\\users\\chait\\anaconda3\\lib\\site-packages (from matplotlib->mediapipe) (3.0.9)\n",
      "Requirement already satisfied: python-dateutil>=2.7 in c:\\users\\chait\\anaconda3\\lib\\site-packages (from matplotlib->mediapipe) (2.8.2)\n",
      "Requirement already satisfied: pycparser in c:\\users\\chait\\anaconda3\\lib\\site-packages (from CFFI>=1.0->sounddevice>=0.4.4->mediapipe) (2.21)\n",
      "Requirement already satisfied: six>=1.5 in c:\\users\\chait\\anaconda3\\lib\\site-packages (from python-dateutil>=2.7->matplotlib->mediapipe) (1.16.0)\n",
      "Note: you may need to restart the kernel to use updated packages.\n",
      "Requirement already satisfied: numpy in c:\\users\\chait\\anaconda3\\lib\\site-packages (1.24.3)\n",
      "Note: you may need to restart the kernel to use updated packages.\n",
      "Requirement already satisfied: tqdm in c:\\users\\chait\\anaconda3\\lib\\site-packages (4.65.0)\n",
      "Requirement already satisfied: colorama in c:\\users\\chait\\anaconda3\\lib\\site-packages (from tqdm) (0.4.6)\n",
      "Note: you may need to restart the kernel to use updated packages.\n"
     ]
    }
   ],
   "source": [
    "# Use this in a Jupyter Lab cell to install Flask and other dependencies\n",
    "%pip install Flask\n",
    "%pip install flask-socketio\n",
    "%pip install opencv-python\n",
    "%pip install mediapipe\n",
    "%pip install numpy\n",
    "%pip install tqdm\n"
   ]
  }
 ],
 "metadata": {
  "kernelspec": {
   "display_name": "Python 3 (ipykernel)",
   "language": "python",
   "name": "python3"
  },
  "language_info": {
   "codemirror_mode": {
    "name": "ipython",
    "version": 3
   },
   "file_extension": ".py",
   "mimetype": "text/x-python",
   "name": "python",
   "nbconvert_exporter": "python",
   "pygments_lexer": "ipython3",
   "version": "3.11.5"
  }
 },
 "nbformat": 4,
 "nbformat_minor": 5
}
